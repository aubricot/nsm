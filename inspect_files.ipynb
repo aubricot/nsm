{
 "cells": [
  {
   "cell_type": "markdown",
   "metadata": {},
   "source": [
    "## Inspect files to get total counts, unique specimens, and check regex matching\n",
    "---\n",
    "*Last edited 23 Oct 2025 by K. Wolcott*"
   ]
  },
  {
   "cell_type": "code",
   "execution_count": 18,
   "metadata": {},
   "outputs": [
    {
     "name": "stdout",
     "output_type": "stream",
     "text": [
      "\u001b[92mLoaded config from run_v30/model_params_config.json\u001b[0m\n",
      "\n",
      "Inspecting info for training data...\n",
      "\n",
      "Running analysis for 1818 vertebrae from 89 specimens\n",
      "\n",
      "4 files were found that don't match the regex pattern.\n",
      "\n",
      "Files not matching the regex:  ['agamidae_agama_atra_uf180711_21.l7_align.vtk', 'boiidae_eryx conicus uf-herp-66735_align.vtk', 'homalopsidae_homalopsis_buccata_uf61845_align.vtk', 'typhlopidae_aniolios_erycinus_uf113561_align.vtk']\n"
     ]
    }
   ],
   "source": [
    "# Read in data from latent codes for training attempt\n",
    "import os, re, json, numpy as np, pandas as pd\n",
    "\n",
    "# Load config\n",
    "train_dir = 'run_v30'\n",
    "config_path = train_dir + '/model_params_config.json'\n",
    "try:\n",
    "    with open(config_path, 'r') as f:\n",
    "        cfg = json.load(f)\n",
    "    print(f\"\\033[92mLoaded config from {config_path}\\033[0m\")\n",
    "except FileNotFoundError:\n",
    "    print(f\"\\033[31mError: model_params_config.json not found in {config_path}. Exiting.\\033[0m\")\n",
    "\n",
    "# Get training paths from config\n",
    "train_paths = cfg['list_mesh_paths']\n",
    "all_vtk_files = [os.path.basename(f) for f in train_paths]\n",
    "\n",
    "# Parse species and vertebra info from filenames (e.g. \"H-capensis-22-L8.ply_align.vtk\").\n",
    "pat = re.compile(r\"^(?P<species>[\\w\\s\\-]+)[\\-_ ]+\\d+[\\-_ ]+(?P<vertebra>[CTL]\\d+)\", re.IGNORECASE)\n",
    "labels = []\n",
    "unmatched_files = []\n",
    "for f in all_vtk_files:\n",
    "    fname = os.path.basename(f)\n",
    "    m = pat.match(fname)\n",
    "    if m:\n",
    "        species = m.group(\"species\").strip()\n",
    "        vertebra = m.group(\"vertebra\").strip()  # e.g. \"C2\", \"L8\"\n",
    "        labels.append((species, vertebra))\n",
    "    else:\n",
    "        labels.append((None, None))\n",
    "        unmatched_files.append(fname)\n",
    "\n",
    "# Inspect training dataset filepaths\n",
    "print(\"\\nInspecting info for training data...\\n\")\n",
    "\n",
    "# List summary of files matched by regex\n",
    "all_species = []\n",
    "for i, (species, vertebra) in enumerate(labels):\n",
    "    all_species.append(species)\n",
    "res = list(dict.fromkeys(all_species))\n",
    "res_sorted = sorted(res, key=lambda x: str(x) if x is not None else '')\n",
    "print(f\"Running analysis for {len(all_vtk_files)} vertebrae from {len(res)} specimens\")\n",
    "print(f\"\\n{len(unmatched_files)} files were found that don't match the regex pattern.\")\n",
    "print(\"\\nFiles not matching the regex: \", unmatched_files)\n",
    "#print(\"\\nUnique specimens found matching the regex: \")\n",
    "#for item in res_sorted:\n",
    "    #print(item)"
   ]
  },
  {
   "cell_type": "code",
   "execution_count": 19,
   "metadata": {},
   "outputs": [
    {
     "name": "stdout",
     "output_type": "stream",
     "text": [
      "\n",
      "Inspecting info for all data...\n",
      "\n",
      "Running analysis for 2273 vertebrae from 90 specimens\n",
      "\n",
      "4 files were found that don't match the regex pattern.\n",
      "\n",
      "Files not matching the regex:  ['boiidae_eryx conicus uf-herp-66735_align.vtk', 'agamidae_agama_atra_uf180711_21.l7_align.vtk', 'typhlopidae_aniolios_erycinus_uf113561_align.vtk', 'homalopsidae_homalopsis_buccata_uf61845_align.vtk']\n"
     ]
    }
   ],
   "source": [
    "# Inspect all filenames\n",
    "print(\"\\nInspecting info for all data...\\n\")\n",
    "\n",
    "# Folder to where mesh paths are stored\n",
    "folder_vtk = \"vertebrae_meshes\"\n",
    "\n",
    "# Get paths from folder\n",
    "train_paths = os.listdir(folder_vtk)\n",
    "all_vtk_files = [os.path.basename(f) for f in train_paths]\n",
    "\n",
    "# Parse species and vertebra info from filenames (e.g. \"H-capensis-22-L8.ply_align.vtk\").\n",
    "pat = re.compile(r\"^(?P<species>[\\w\\s\\-]+)[\\-_ ]+\\d+[\\-_ ]+(?P<vertebra>[CTL]\\d+)\", re.IGNORECASE)\n",
    "labels = []\n",
    "unmatched_files = []\n",
    "for f in all_vtk_files:\n",
    "    fname = os.path.basename(f)\n",
    "    m = pat.match(fname)\n",
    "    if m:\n",
    "        species = m.group(\"species\").strip()\n",
    "        vertebra = m.group(\"vertebra\").strip()  # e.g. \"C2\", \"L8\"\n",
    "        labels.append((species, vertebra))\n",
    "    else:\n",
    "        labels.append((None, None))\n",
    "        unmatched_files.append(fname)\n",
    "\n",
    "# List summary of files matched by regex\n",
    "all_species = []\n",
    "for i, (species, vertebra) in enumerate(labels):\n",
    "    all_species.append(species)\n",
    "res = list(dict.fromkeys(all_species))\n",
    "res_sorted = sorted(res, key=lambda x: str(x) if x is not None else '')\n",
    "print(f\"Running analysis for {len(all_vtk_files)} vertebrae from {len(res)} specimens\")\n",
    "print(f\"\\n{len(unmatched_files)} files were found that don't match the regex pattern.\")\n",
    "print(\"\\nFiles not matching the regex: \", unmatched_files)\n",
    "#print(\"\\nUnique specimens found matching the regex: \")\n",
    "#for item in res_sorted:\n",
    "    #print(item)"
   ]
  }
 ],
 "metadata": {
  "kernelspec": {
   "display_name": "NSM",
   "language": "python",
   "name": "python3"
  },
  "language_info": {
   "codemirror_mode": {
    "name": "ipython",
    "version": 3
   },
   "file_extension": ".py",
   "mimetype": "text/x-python",
   "name": "python",
   "nbconvert_exporter": "python",
   "pygments_lexer": "ipython3",
   "version": "3.11.13"
  }
 },
 "nbformat": 4,
 "nbformat_minor": 2
}
